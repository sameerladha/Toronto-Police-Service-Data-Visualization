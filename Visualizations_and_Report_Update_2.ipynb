{
  "cells": [
    {
      "cell_type": "markdown",
      "metadata": {
        "id": "Ff9tSjenUypP"
      },
      "source": [
        "# A Detailed Crime Analysis in the City of Toronto\n",
        "\n",
        "## Sarbpreet Ghotra & Sameer Ladha\n",
        "\n",
        "## DS8007 Final Project\n"
      ]
    },
    {
      "cell_type": "code",
      "execution_count": null,
      "metadata": {
        "id": "btTsb15BUypT"
      },
      "outputs": [],
      "source": [
        "import pandas as pd\n",
        "import matplotlib.pyplot as plt\n",
        "import numpy as np\n",
        "import folium\n",
        "from folium.plugins import HeatMap\n",
        "from folium.plugins import MarkerCluster\n",
        "import json\n",
        "from matplotlib.colors import Normalize\n",
        "import seaborn as sns"
      ]
    },
    {
      "cell_type": "markdown",
      "metadata": {
        "id": "VikZu2AZUypT"
      },
      "source": [
        "### Data Preprocessing"
      ]
    },
    {
      "cell_type": "code",
      "execution_count": null,
      "metadata": {
        "colab": {
          "base_uri": "https://localhost:8080/"
        },
        "id": "YJKvpnsvUypU",
        "outputId": "bb139da0-a2a1-4296-9522-ffe5e7bb4f0b"
      },
      "outputs": [],
      "source": [
        "filename = \"/Users/sameerladha/Documents/School/Masters of Science - Data Science and Analytics/S2/DS8007 - Advanced Data Visualization/Final Project DS8007/Major_Crime_Indicators_Open_Data.csv\"\n",
        "df = pd.read_csv(filename)\n",
        "\n",
        "prelen = len(df)\n",
        "# Show basic data description\n",
        "df.info()"
      ]
    },
    {
      "cell_type": "markdown",
      "metadata": {
        "id": "YBX2lanpUypU"
      },
      "source": [
        "### Data Cleaning\n"
      ]
    },
    {
      "cell_type": "code",
      "execution_count": null,
      "metadata": {
        "colab": {
          "base_uri": "https://localhost:8080/"
        },
        "id": "uOhSWOF7UypU",
        "outputId": "caf550e3-134e-4e71-a5d6-6909026a676c"
      },
      "outputs": [],
      "source": [
        "# Remove any years before 2014 as most of the data is from 2014 onwards\n",
        "df = df[df[\"OCC_YEAR\"] >= 2014]\n",
        "\n",
        "# Drop nan values\n",
        "df.dropna(inplace=True)\n",
        "\n",
        "postlen = len(df)\n",
        "\n",
        "print(\"We removed\", prelen - postlen, \"rows of data\")\n",
        "print(\"-\" * 35)\n",
        "print()\n",
        "print()\n",
        "# Dataset after cleaning\n",
        "df.info()"
      ]
    },
    {
      "cell_type": "code",
      "execution_count": null,
      "metadata": {},
      "outputs": [],
      "source": [
        "columns_of_interest = [\n",
        "    \"PREMISES_TYPE\",\n",
        "    \"MCI_CATEGORY\",\n",
        "    \"OFFENCE\",\n",
        "    \"DIVISION\",\n",
        "    \"NEIGHBOURHOOD_158\",\n",
        "]\n",
        "\n",
        "for column_name in columns_of_interest:\n",
        "    unique_values = df[column_name].unique()\n",
        "    num_unique_values = len(unique_values)\n",
        "\n",
        "    print(\"Unique values in column '{}':\".format(column_name))\n",
        "    for value in unique_values:\n",
        "        print(value)\n",
        "\n",
        "    print(\"\\nNumber of unique values:\", num_unique_values)\n",
        "    print(\"\\n\")"
      ]
    },
    {
      "cell_type": "markdown",
      "metadata": {
        "id": "fgeJQTQ9UypV"
      },
      "source": [
        "### Exploratory Data Analysis"
      ]
    },
    {
      "cell_type": "code",
      "execution_count": null,
      "metadata": {
        "id": "Ds5V013OUypV",
        "outputId": "4b2defcf-b319-4cae-d513-741acb0ae346"
      },
      "outputs": [],
      "source": [
        "report_year_counts = df[\"REPORT_YEAR\"].value_counts().sort_index()\n",
        "occ_year_counts = df[\"OCC_YEAR\"].value_counts().sort_index()\n",
        "report_month_counts = df[\"REPORT_MONTH\"].value_counts().sort_index()\n",
        "occ_month_counts = df[\"OCC_MONTH\"].value_counts().sort_index()\n",
        "\n",
        "all_years = sorted(set(report_year_counts.index).union(set(occ_year_counts.index)))\n",
        "all_months = sorted(set(report_month_counts.index).union(set(occ_month_counts.index)))\n",
        "\n",
        "report_year_counts = report_year_counts.reindex(all_years, fill_value=0)\n",
        "occ_year_counts = occ_year_counts.reindex(all_years, fill_value=0)\n",
        "report_month_counts = report_month_counts.reindex(all_months, fill_value=0)\n",
        "occ_month_counts = occ_month_counts.reindex(all_months, fill_value=0)\n",
        "\n",
        "plt.figure(figsize=(10, 6))\n",
        "\n",
        "plt.fill_between(\n",
        "    all_years,\n",
        "    report_year_counts.values,\n",
        "    label=\"Reported Year\",\n",
        "    color=\"lightgreen\",\n",
        "    alpha=0.5,\n",
        ")\n",
        "plt.fill_between(\n",
        "    all_years,\n",
        "    occ_year_counts.values + report_year_counts.values,\n",
        "    label=\"Occurred Year\",\n",
        "    color=\"skyblue\",\n",
        "    alpha=0.5,\n",
        ")\n",
        "plt.title(\"Number of Crimes by Reported Year and Occurred Year\")\n",
        "plt.xlabel(\"Year\")\n",
        "plt.ylabel(\"Number of Crimes\")\n",
        "plt.legend(loc=\"upper left\")\n",
        "\n",
        "plt.show()"
      ]
    },
    {
      "cell_type": "code",
      "execution_count": null,
      "metadata": {
        "id": "IiltylfJUypV",
        "outputId": "685aca26-1e95-41f3-8318-3086ed9f30c6"
      },
      "outputs": [],
      "source": [
        "plt.figure(figsize=(10, 6))\n",
        "\n",
        "plt.fill_between(\n",
        "    all_months,\n",
        "    report_month_counts.values,\n",
        "    label=\"Reported Month\",\n",
        "    color=\"lightgreen\",\n",
        "    alpha=0.5,\n",
        ")\n",
        "plt.fill_between(\n",
        "    all_months,\n",
        "    occ_month_counts.values + report_month_counts.values,\n",
        "    label=\"Occurred Month\",\n",
        "    color=\"skyblue\",\n",
        "    alpha=0.5,\n",
        ")\n",
        "plt.title(\"Number of Crimes by Reported Month and Occurred Month\")\n",
        "plt.xlabel(\"Month\")\n",
        "plt.legend(loc=\"upper left\")\n",
        "\n",
        "plt.show()"
      ]
    },
    {
      "cell_type": "code",
      "execution_count": null,
      "metadata": {
        "id": "Dqf0JqpZUypV",
        "outputId": "2bbeddab-3c1a-4dfc-985e-dbe989838732"
      },
      "outputs": [],
      "source": [
        "divisions = df[\"DIVISION\"].value_counts()\n",
        "plt.figure(figsize=(10, 6))\n",
        "plt.stem(divisions.index, divisions.values)\n",
        "plt.title(\"Number of Crimes by Police Division\")\n",
        "plt.ylabel(\"Number of Crimes\")\n",
        "plt.xlabel(\"Division\")\n",
        "plt.show()"
      ]
    },
    {
      "cell_type": "code",
      "execution_count": null,
      "metadata": {
        "id": "dcNk-zn-UypW",
        "outputId": "5d8f6be9-35f6-4de7-973f-6eff5f846d5c"
      },
      "outputs": [],
      "source": [
        "fig, axs = plt.subplots(1, 2, figsize=(18, 6))\n",
        "top_10_neighbourhoods = df[\"NEIGHBOURHOOD_158\"].value_counts().nlargest(10)\n",
        "axs[0].barh(top_10_neighbourhoods.index, top_10_neighbourhoods.values)\n",
        "axs[0].set_title(\"Top 10 Neighbourhoods with the Most Crime\")\n",
        "axs[0].set_xlabel(\"Number of Crimes\")\n",
        "axs[0].set_ylabel(\"Neighbourhood\")\n",
        "\n",
        "\n",
        "bottom_10_neighbourhoods = df[\"NEIGHBOURHOOD_158\"].value_counts().nsmallest(10)\n",
        "axs[1].barh(bottom_10_neighbourhoods.index, bottom_10_neighbourhoods.values)\n",
        "axs[1].set_title(\"Top 10 Neighbourhoods with the Lowest Crime\")\n",
        "axs[1].set_xlabel(\"Number of Crimes\")\n",
        "plt.tight_layout()\n",
        "plt.show()"
      ]
    },
    {
      "cell_type": "code",
      "execution_count": null,
      "metadata": {
        "id": "CCQ4bi2YUypW",
        "outputId": "795941ea-644d-4ae2-acbb-7222dc69519e"
      },
      "outputs": [],
      "source": [
        "fig, axs = plt.subplots(1, 2, figsize=(20, 10))\n",
        "\n",
        "# Types of Crimes\n",
        "crime_counts = df[\"MCI_CATEGORY\"].value_counts().sort_values(ascending=False)\n",
        "axs[0].pie(crime_counts, labels=crime_counts.index, autopct=\"%1.1f%%\", startangle=140)\n",
        "axs[0].set_title(\"Types of Crimes\")\n",
        "\n",
        "# Where Crimes Occur\n",
        "premises_counts = df[\"PREMISES_TYPE\"].value_counts().sort_values(ascending=False)\n",
        "axs[1].pie(\n",
        "    premises_counts, labels=premises_counts.index, autopct=\"%1.1f%%\", startangle=140\n",
        ")\n",
        "axs[1].set_title(\"Where Crimes Occur\")\n",
        "\n",
        "plt.show()"
      ]
    },
    {
      "cell_type": "code",
      "execution_count": null,
      "metadata": {},
      "outputs": [],
      "source": [
        "city_center_latitude = df[\"LAT_WGS84\"].median()\n",
        "city_center_longitude = df[\"LONG_WGS84\"].median()\n",
        "\n",
        "m = folium.Map(location=[city_center_latitude, city_center_longitude], zoom_start=12)\n",
        "\n",
        "heat_data = [[row[\"LAT_WGS84\"], row[\"LONG_WGS84\"]] for index, row in df.iterrows()]\n",
        "\n",
        "HeatMap(heat_data).add_to(m)\n",
        "\n",
        "m"
      ]
    },
    {
      "cell_type": "code",
      "execution_count": null,
      "metadata": {},
      "outputs": [],
      "source": [
        "dfmap = pd.read_csv(\n",
        "    \"/Users/sameerladha/Documents/School/Masters of Science - Data Science and Analytics/S2/DS8007 - Advanced Data Visualization/Final Project DS8007/Toronto-Police-Service-Data-Visualization/Data/neighbourhood-crime-rates - 4326.csv\"\n",
        ")\n",
        "\n",
        "# Replace single quotes with double quotes and load the geometry as a JSON object\n",
        "dfmap[\"geometry\"] = dfmap[\"geometry\"].apply(lambda x: json.loads(x.replace(\"'\", '\"')))\n",
        "\n",
        "# Use this command to display crimes for all years\n",
        "# filtered_crime_df = df\n",
        "\n",
        "# Use this command to display crimes by year\n",
        "filtered_crime_df = df[(df[\"OCC_YEAR\"] == 2014)]\n",
        "\n",
        "# Toronto's latitude and longitude for the map's center\n",
        "toronto_lat = 43.651070\n",
        "toronto_lng = -79.347015\n",
        "\n",
        "# Initialize a Folium map centered on Toronto\n",
        "toronto_map = folium.Map(location=[toronto_lat, toronto_lng], zoom_start=11)\n",
        "\n",
        "\n",
        "# Function to add a neighborhood to the map\n",
        "def add_neighborhood_to_map(area_name, geometry, map_obj):\n",
        "    folium.GeoJson(\n",
        "        geometry,\n",
        "        style_function=lambda x: {\n",
        "            \"color\": \"blue\",\n",
        "            \"weight\": 2,\n",
        "            \"fillColor\": \"grey\",\n",
        "            \"fillOpacity\": 0.5,\n",
        "        },\n",
        "        tooltip=area_name,\n",
        "    ).add_to(map_obj)\n",
        "\n",
        "\n",
        "# Add each neighborhood to the map\n",
        "for _, row in dfmap.iterrows():\n",
        "    add_neighborhood_to_map(row[\"AREA_NAME\"], row[\"geometry\"], toronto_map)\n",
        "\n",
        "marker_cluster = MarkerCluster().add_to(toronto_map)\n",
        "\n",
        "for idx, row in filtered_crime_df.iterrows():\n",
        "    folium.Marker(\n",
        "        location=[row[\"LAT_WGS84\"], row[\"LONG_WGS84\"]],\n",
        "        popup=f\"Date Occured: {row['OCC_DATE']},Type: {row['MCI_CATEGORY']}, Premises: {row['PREMISES_TYPE']}\",\n",
        "        icon=None,\n",
        "    ).add_to(marker_cluster)\n",
        "\n",
        "toronto_map"
      ]
    },
    {
      "cell_type": "code",
      "execution_count": null,
      "metadata": {},
      "outputs": [],
      "source": [
        "dfmap = pd.read_csv(\n",
        "    \"/Users/sameerladha/Documents/School/Masters of Science - Data Science and Analytics/S2/DS8007 - Advanced Data Visualization/Final Project DS8007/Toronto-Police-Service-Data-Visualization/Data/neighbourhood-crime-rates - 4326.csv\"\n",
        ")\n",
        "\n",
        "# Replace single quotes with double quotes and load the geometry as a JSON object\n",
        "dfmap[\"geometry\"] = dfmap[\"geometry\"].apply(lambda x: json.loads(x.replace(\"'\", '\"')))\n",
        "\n",
        "# Use this command to display crimes for all years\n",
        "# filtered_crime_df = df\n",
        "\n",
        "# Use this command to display crimes by year\n",
        "filtered_crime_df = df[(df[\"OCC_YEAR\"] == 2014)]\n",
        "\n",
        "# Initialize a Folium map centered on Toronto\n",
        "toronto_map = folium.Map(location=[43.651070, -79.347015], zoom_start=11)\n",
        "\n",
        "categories = filtered_crime_df[\"MCI_CATEGORY\"].unique()\n",
        "premises = filtered_crime_df[\"PREMISES_TYPE\"].unique()\n",
        "\n",
        "# Create a layer for each category and premise type\n",
        "for category in categories:\n",
        "    for premise in premises:\n",
        "        # Filter the DataFrame for this combination of category and premise\n",
        "        filtered_df = filtered_crime_df[\n",
        "            (filtered_crime_df[\"MCI_CATEGORY\"] == category)\n",
        "            & (filtered_crime_df[\"PREMISES_TYPE\"] == premise)\n",
        "        ]\n",
        "\n",
        "        marker_cluster = MarkerCluster(name=f\"{category} - {premise}\").add_to(\n",
        "            toronto_map\n",
        "        )\n",
        "\n",
        "        for idx, row in filtered_df.iterrows():\n",
        "            folium.Marker(\n",
        "                location=[row[\"LAT_WGS84\"], row[\"LONG_WGS84\"]],\n",
        "                popup=f\"Date Occured: {row['OCC_DATE']},Type: {row['MCI_CATEGORY']}, Premises: {row['PREMISES_TYPE']}\",\n",
        "                icon=None,\n",
        "            ).add_to(marker_cluster)\n",
        "\n",
        "# Add LayerControl to allow toggling\n",
        "folium.LayerControl().add_to(toronto_map)\n",
        "\n",
        "toronto_map"
      ]
    },
    {
      "cell_type": "code",
      "execution_count": null,
      "metadata": {
        "colab": {
          "base_uri": "https://localhost:8080/",
          "height": 728
        },
        "id": "93_S5vL8UypW",
        "outputId": "51452539-76b2-4ce1-a970-d592fc5584c0"
      },
      "outputs": [],
      "source": [
        "df1 = df.copy()\n",
        "\n",
        "# Clean the 'OCC_DOW' column by stripping extra spaces\n",
        "df1[\"OCC_DOW\"] = df1[\"OCC_DOW\"].str.strip()\n",
        "\n",
        "occ_dow_counts = (\n",
        "    df1[\"OCC_DOW\"]\n",
        "    .value_counts()\n",
        "    .reindex(\n",
        "        [\"Monday\", \"Tuesday\", \"Wednesday\", \"Thursday\", \"Friday\", \"Saturday\", \"Sunday\"]\n",
        "    )\n",
        ")\n",
        "norm = Normalize(vmin=occ_dow_counts.min(), vmax=occ_dow_counts.max())\n",
        "cmap = plt.cm.magma\n",
        "\n",
        "plt.figure(figsize=(10, 6))\n",
        "bars = plt.bar(occ_dow_counts.index, occ_dow_counts.values)\n",
        "\n",
        "for bar, value in zip(bars, occ_dow_counts.values):\n",
        "    bar.set_color(cmap(norm(value)))\n",
        "\n",
        "plt.title(\"Crime Occurrences by Day of the Week\")\n",
        "plt.xlabel(\"Day of the Week\")\n",
        "plt.ylabel(\"Number of Occurrences\")\n",
        "plt.xticks(rotation=45)\n",
        "plt.ylim(20000, max(occ_dow_counts.values) * 1.1)\n",
        "\n",
        "plt.show()"
      ]
    },
    {
      "cell_type": "code",
      "execution_count": null,
      "metadata": {
        "colab": {
          "base_uri": "https://localhost:8080/",
          "height": 763
        },
        "id": "cEV6aL2cUypW",
        "outputId": "c5df39a4-70ae-40de-a1c1-fde097df409b"
      },
      "outputs": [],
      "source": [
        "crime_over_time = (\n",
        "    df.groupby([\"REPORT_YEAR\", \"MCI_CATEGORY\"]).size().unstack(fill_value=0)\n",
        ")\n",
        "\n",
        "plt.figure(figsize=(14, 8))\n",
        "for category in crime_over_time.columns:\n",
        "    plt.plot(\n",
        "        crime_over_time.index, crime_over_time[category], label=category, marker=\"o\"\n",
        "    )\n",
        "\n",
        "plt.title(\"Crimes Over Time by Type\")\n",
        "plt.xlabel(\"Year\")\n",
        "plt.ylabel(\"Number of Crimes\")\n",
        "plt.legend(title=\"Crime Type\", bbox_to_anchor=(1.05, 1), loc=\"upper left\")\n",
        "plt.grid(True)\n",
        "plt.tight_layout(rect=[0, 0, 0.85, 1])\n",
        "plt.show()"
      ]
    },
    {
      "cell_type": "code",
      "execution_count": null,
      "metadata": {
        "colab": {
          "base_uri": "https://localhost:8080/",
          "height": 762
        },
        "id": "t1qC8G-CUypX",
        "outputId": "65cf1455-de4a-4d1e-f02d-4c9a7370fc9a"
      },
      "outputs": [],
      "source": [
        "crimes_by_premises_over_time = (\n",
        "    df.groupby([\"REPORT_YEAR\", \"PREMISES_TYPE\"]).size().unstack(fill_value=0)\n",
        ")\n",
        "\n",
        "plt.figure(figsize=(14, 8))\n",
        "for premises_type in crimes_by_premises_over_time.columns:\n",
        "    plt.plot(\n",
        "        crimes_by_premises_over_time.index,\n",
        "        crimes_by_premises_over_time[premises_type],\n",
        "        label=premises_type,\n",
        "        marker=\"o\",\n",
        "    )\n",
        "\n",
        "plt.title(\"Crimes Over Time by Premises Type\")\n",
        "plt.xlabel(\"Year\")\n",
        "plt.ylabel(\"Number of Crimes\")\n",
        "plt.legend(title=\"Premises Type\", bbox_to_anchor=(1.05, 1), loc=\"upper left\")\n",
        "plt.grid(True)\n",
        "plt.tight_layout(rect=[0, 0, 0.85, 1])\n",
        "plt.show()"
      ]
    },
    {
      "cell_type": "code",
      "execution_count": null,
      "metadata": {
        "colab": {
          "base_uri": "https://localhost:8080/",
          "height": 763
        },
        "id": "igjB3T_-UypX",
        "outputId": "4ae1eaa2-4513-410e-8d54-566307ab1ba5"
      },
      "outputs": [],
      "source": [
        "crimes_by_division_over_time = (\n",
        "    df.groupby([\"REPORT_YEAR\", \"DIVISION\"]).size().unstack(fill_value=0)\n",
        ")\n",
        "\n",
        "plt.figure(figsize=(14, 8))\n",
        "for division in crimes_by_division_over_time.columns:\n",
        "    plt.plot(\n",
        "        crimes_by_division_over_time.index,\n",
        "        crimes_by_division_over_time[division],\n",
        "        label=division,\n",
        "        marker=\".\",\n",
        "    )\n",
        "\n",
        "plt.title(\"Reported Crimes by Division Over Time\")\n",
        "plt.xlabel(\"Year\")\n",
        "plt.ylabel(\"Number of Reported Crimes\")\n",
        "plt.legend(title=\"Division\", bbox_to_anchor=(1.05, 1), loc=\"upper left\", ncol=2)\n",
        "plt.grid(True)\n",
        "plt.tight_layout(rect=[0, 0, 0.85, 1])\n",
        "plt.show()"
      ]
    },
    {
      "cell_type": "code",
      "execution_count": null,
      "metadata": {},
      "outputs": [],
      "source": [
        "offence_heatmap_data = df.pivot_table(\n",
        "    values=\"EVENT_UNIQUE_ID\", index=\"OCC_DOW\", columns=\"OCC_HOUR\", aggfunc=\"count\"\n",
        ")\n",
        "sns.heatmap(offence_heatmap_data, cmap=\"YlGnBu\")\n",
        "plt.title(\"Offences by Day of Week and Hour\")\n",
        "plt.xlabel(\"Hour of Day\")\n",
        "plt.ylabel(\"Day of the Week\")\n",
        "plt.show()"
      ]
    },
    {
      "cell_type": "code",
      "execution_count": null,
      "metadata": {
        "colab": {
          "base_uri": "https://localhost:8080/",
          "height": 608
        },
        "id": "AhNLYaltUypX",
        "outputId": "9f330b7e-a470-41fd-80fc-12315ca6fe1f"
      },
      "outputs": [],
      "source": [
        "time_ranges = {\n",
        "    \"Morning\": (6, 11),\n",
        "    \"Afternoon\": (12, 16),\n",
        "    \"Evening\": (17, 21),\n",
        "    \"Night\": (22, 23),\n",
        "    \"Night\": (0, 5),\n",
        "}\n",
        "\n",
        "colors = {\n",
        "    \"Morning\": \"gold\",\n",
        "    \"Afternoon\": \"orange\",\n",
        "    \"Evening\": \"lightcoral\",\n",
        "    \"Night\": \"dimgray\",\n",
        "}\n",
        "\n",
        "\n",
        "def assign_time_period(hour):\n",
        "    for period, (start, end) in time_ranges.items():\n",
        "        if start <= hour <= end:\n",
        "            return period\n",
        "    return \"Night\"\n",
        "\n",
        "\n",
        "df[\"Time_Period\"] = df[\"OCC_HOUR\"].apply(assign_time_period)\n",
        "time_period_counts = df[\"Time_Period\"].value_counts().sort_index()\n",
        "ordered_periods = [\"Morning\", \"Afternoon\", \"Evening\", \"Night\"]\n",
        "time_period_counts = time_period_counts.reindex(ordered_periods)\n",
        "\n",
        "plt.figure(figsize=(10, 6))\n",
        "time_period_counts.plot(\n",
        "    kind=\"bar\", color=[colors[period] for period in time_period_counts.index]\n",
        ")\n",
        "plt.title(\"Time of Day Crime Distribution\")\n",
        "plt.xlabel(\"Time Period\")\n",
        "plt.ylabel(\"Number of Crimes\")\n",
        "plt.xticks(rotation=45)\n",
        "plt.grid(axis=\"y\", linestyle=\"--\")\n",
        "plt.show()"
      ]
    },
    {
      "cell_type": "code",
      "execution_count": null,
      "metadata": {
        "colab": {
          "base_uri": "https://localhost:8080/",
          "height": 750
        },
        "id": "_VqaSIB8gfQW",
        "outputId": "87a24337-5dd8-4442-adef-372e91a842cd"
      },
      "outputs": [],
      "source": [
        "df[\"Time_Period\"] = df[\"OCC_HOUR\"].apply(assign_time_period)\n",
        "\n",
        "crime_period_data = df.pivot_table(\n",
        "    index=\"MCI_CATEGORY\", columns=\"Time_Period\", aggfunc=\"size\", fill_value=0\n",
        ")\n",
        "\n",
        "ordered_periods = [\"Morning\", \"Afternoon\", \"Evening\", \"Night\"]\n",
        "crime_period_data = crime_period_data[ordered_periods]\n",
        "\n",
        "crime_period_data.plot(\n",
        "    kind=\"bar\",\n",
        "    stacked=True,\n",
        "    color=[colors[period] for period in ordered_periods],\n",
        "    figsize=(12, 8),\n",
        ")\n",
        "\n",
        "plt.title(\"Crime by Type and Time of Day 2014-2022\")\n",
        "plt.xlabel(\"Crime Type\")\n",
        "plt.ylabel(\"Number of Crimes\")\n",
        "plt.xticks(rotation=45)\n",
        "plt.grid(axis=\"y\", linestyle=\"--\")\n",
        "plt.legend(title=\"Time Period\")\n",
        "plt.tight_layout()\n",
        "plt.show()"
      ]
    },
    {
      "cell_type": "code",
      "execution_count": null,
      "metadata": {
        "colab": {
          "base_uri": "https://localhost:8080/",
          "height": 861
        },
        "id": "0VdassKjp9ml",
        "outputId": "4e031ca8-8020-4bae-96ca-74facf3c1ecb"
      },
      "outputs": [],
      "source": [
        "df_2023 = df[df[\"OCC_YEAR\"] == 2023].copy()\n",
        "\n",
        "months_order = [\n",
        "    \"January\",\n",
        "    \"February\",\n",
        "    \"March\",\n",
        "    \"April\",\n",
        "    \"May\",\n",
        "    \"June\",\n",
        "    \"July\",\n",
        "    \"August\",\n",
        "    \"September\",\n",
        "    \"October\",\n",
        "    \"November\",\n",
        "    \"December\",\n",
        "]\n",
        "\n",
        "df_2023.loc[:, \"OCC_MONTH\"] = pd.Categorical(\n",
        "    df_2023[\"OCC_MONTH\"], categories=months_order, ordered=True\n",
        ")\n",
        "\n",
        "grouped_data = (\n",
        "    df_2023.groupby([\"OCC_MONTH\", \"MCI_CATEGORY\"], observed=True)\n",
        "    .size()\n",
        "    .unstack(fill_value=0)\n",
        ")\n",
        "\n",
        "plt.figure(figsize=(12, 8))\n",
        "for column in grouped_data.columns:\n",
        "    plt.plot(grouped_data.index, grouped_data[column], label=column)\n",
        "\n",
        "plt.xlabel(\"Month\")\n",
        "plt.ylabel(\"Number of Crime Occurrences\")\n",
        "plt.title(\"Occurrences by Category in 2023\")\n",
        "plt.xticks(rotation=45)\n",
        "plt.legend(title=\"Category\", bbox_to_anchor=(1.05, 1), loc=\"upper left\")\n",
        "plt.grid(True)\n",
        "plt.tight_layout()\n",
        "plt.show()"
      ]
    }
  ],
  "metadata": {
    "colab": {
      "provenance": []
    },
    "kernelspec": {
      "display_name": "datamlenv",
      "language": "python",
      "name": "python3"
    },
    "language_info": {
      "codemirror_mode": {
        "name": "ipython",
        "version": 3
      },
      "file_extension": ".py",
      "mimetype": "text/x-python",
      "name": "python",
      "nbconvert_exporter": "python",
      "pygments_lexer": "ipython3",
      "version": "3.11.5"
    }
  },
  "nbformat": 4,
  "nbformat_minor": 0
}
